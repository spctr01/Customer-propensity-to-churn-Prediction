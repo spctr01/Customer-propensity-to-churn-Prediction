{
  "nbformat": 4,
  "nbformat_minor": 0,
  "metadata": {
    "colab": {
      "name": "Churn_prediction.ipynb",
      "provenance": [],
      "collapsed_sections": [],
      "toc_visible": true,
      "include_colab_link": true
    },
    "kernelspec": {
      "name": "python3",
      "display_name": "Python 3"
    }
  },
  "cells": [
    {
      "cell_type": "markdown",
      "metadata": {
        "id": "view-in-github",
        "colab_type": "text"
      },
      "source": [
        "<a href=\"https://colab.research.google.com/github/spctr01/Customer-propensity-to-churn-Prediction/blob/master/Churn_prediction.ipynb\" target=\"_parent\"><img src=\"https://colab.research.google.com/assets/colab-badge.svg\" alt=\"Open In Colab\"/></a>"
      ]
    },
    {
      "cell_type": "code",
      "metadata": {
        "id": "SpZw8Mny3GIm",
        "colab_type": "code",
        "colab": {}
      },
      "source": [
        "import pandas as pd\n",
        "import matplotlib.pyplot as plt\n",
        "%matplotlib inline\n",
        "import seaborn as sns\n",
        "import warnings\n",
        "warnings.filterwarnings('ignore')"
      ],
      "execution_count": null,
      "outputs": []
    },
    {
      "cell_type": "code",
      "metadata": {
        "id": "MU6E_rnLbLzJ",
        "colab_type": "code",
        "colab": {
          "base_uri": "https://localhost:8080/",
          "height": 226
        },
        "outputId": "6d51300a-2c46-4c2d-b5ae-0aa348e00406"
      },
      "source": [
        "data = pd.read_csv('churn_prediction.csv', error_bad_lines=False)\n",
        "data.head()"
      ],
      "execution_count": null,
      "outputs": [
        {
          "output_type": "execute_result",
          "data": {
            "text/html": [
              "<div>\n",
              "<style scoped>\n",
              "    .dataframe tbody tr th:only-of-type {\n",
              "        vertical-align: middle;\n",
              "    }\n",
              "\n",
              "    .dataframe tbody tr th {\n",
              "        vertical-align: top;\n",
              "    }\n",
              "\n",
              "    .dataframe thead th {\n",
              "        text-align: right;\n",
              "    }\n",
              "</style>\n",
              "<table border=\"1\" class=\"dataframe\">\n",
              "  <thead>\n",
              "    <tr style=\"text-align: right;\">\n",
              "      <th></th>\n",
              "      <th>customer_id</th>\n",
              "      <th>vintage</th>\n",
              "      <th>age</th>\n",
              "      <th>gender</th>\n",
              "      <th>dependents</th>\n",
              "      <th>occupation</th>\n",
              "      <th>city</th>\n",
              "      <th>customer_nw_category</th>\n",
              "      <th>branch_code</th>\n",
              "      <th>days_since_last_transaction</th>\n",
              "      <th>current_balance</th>\n",
              "      <th>previous_month_end_balance</th>\n",
              "      <th>average_monthly_balance_prevQ</th>\n",
              "      <th>average_monthly_balance_prevQ2</th>\n",
              "      <th>current_month_credit</th>\n",
              "      <th>previous_month_credit</th>\n",
              "      <th>current_month_debit</th>\n",
              "      <th>previous_month_debit</th>\n",
              "      <th>current_month_balance</th>\n",
              "      <th>previous_month_balance</th>\n",
              "      <th>churn</th>\n",
              "    </tr>\n",
              "  </thead>\n",
              "  <tbody>\n",
              "    <tr>\n",
              "      <th>0</th>\n",
              "      <td>1</td>\n",
              "      <td>3135</td>\n",
              "      <td>66</td>\n",
              "      <td>Male</td>\n",
              "      <td>0.0</td>\n",
              "      <td>self_employed</td>\n",
              "      <td>187.0</td>\n",
              "      <td>2</td>\n",
              "      <td>755</td>\n",
              "      <td>224.0</td>\n",
              "      <td>1458.71</td>\n",
              "      <td>1458.71</td>\n",
              "      <td>1458.71</td>\n",
              "      <td>1449.07</td>\n",
              "      <td>0.20</td>\n",
              "      <td>0.20</td>\n",
              "      <td>0.20</td>\n",
              "      <td>0.20</td>\n",
              "      <td>1458.71</td>\n",
              "      <td>1458.71</td>\n",
              "      <td>0</td>\n",
              "    </tr>\n",
              "    <tr>\n",
              "      <th>1</th>\n",
              "      <td>2</td>\n",
              "      <td>310</td>\n",
              "      <td>35</td>\n",
              "      <td>Male</td>\n",
              "      <td>0.0</td>\n",
              "      <td>self_employed</td>\n",
              "      <td>NaN</td>\n",
              "      <td>2</td>\n",
              "      <td>3214</td>\n",
              "      <td>60.0</td>\n",
              "      <td>5390.37</td>\n",
              "      <td>8704.66</td>\n",
              "      <td>7799.26</td>\n",
              "      <td>12419.41</td>\n",
              "      <td>0.56</td>\n",
              "      <td>0.56</td>\n",
              "      <td>5486.27</td>\n",
              "      <td>100.56</td>\n",
              "      <td>6496.78</td>\n",
              "      <td>8787.61</td>\n",
              "      <td>0</td>\n",
              "    </tr>\n",
              "    <tr>\n",
              "      <th>2</th>\n",
              "      <td>4</td>\n",
              "      <td>2356</td>\n",
              "      <td>31</td>\n",
              "      <td>Male</td>\n",
              "      <td>0.0</td>\n",
              "      <td>salaried</td>\n",
              "      <td>146.0</td>\n",
              "      <td>2</td>\n",
              "      <td>41</td>\n",
              "      <td>NaN</td>\n",
              "      <td>3913.16</td>\n",
              "      <td>5815.29</td>\n",
              "      <td>4910.17</td>\n",
              "      <td>2815.94</td>\n",
              "      <td>0.61</td>\n",
              "      <td>0.61</td>\n",
              "      <td>6046.73</td>\n",
              "      <td>259.23</td>\n",
              "      <td>5006.28</td>\n",
              "      <td>5070.14</td>\n",
              "      <td>0</td>\n",
              "    </tr>\n",
              "    <tr>\n",
              "      <th>3</th>\n",
              "      <td>5</td>\n",
              "      <td>478</td>\n",
              "      <td>90</td>\n",
              "      <td>NaN</td>\n",
              "      <td>NaN</td>\n",
              "      <td>self_employed</td>\n",
              "      <td>1020.0</td>\n",
              "      <td>2</td>\n",
              "      <td>582</td>\n",
              "      <td>147.0</td>\n",
              "      <td>2291.91</td>\n",
              "      <td>2291.91</td>\n",
              "      <td>2084.54</td>\n",
              "      <td>1006.54</td>\n",
              "      <td>0.47</td>\n",
              "      <td>0.47</td>\n",
              "      <td>0.47</td>\n",
              "      <td>2143.33</td>\n",
              "      <td>2291.91</td>\n",
              "      <td>1669.79</td>\n",
              "      <td>1</td>\n",
              "    </tr>\n",
              "    <tr>\n",
              "      <th>4</th>\n",
              "      <td>6</td>\n",
              "      <td>2531</td>\n",
              "      <td>42</td>\n",
              "      <td>Male</td>\n",
              "      <td>2.0</td>\n",
              "      <td>self_employed</td>\n",
              "      <td>1494.0</td>\n",
              "      <td>3</td>\n",
              "      <td>388</td>\n",
              "      <td>58.0</td>\n",
              "      <td>927.72</td>\n",
              "      <td>1401.72</td>\n",
              "      <td>1643.31</td>\n",
              "      <td>1871.12</td>\n",
              "      <td>0.33</td>\n",
              "      <td>714.61</td>\n",
              "      <td>588.62</td>\n",
              "      <td>1538.06</td>\n",
              "      <td>1157.15</td>\n",
              "      <td>1677.16</td>\n",
              "      <td>1</td>\n",
              "    </tr>\n",
              "  </tbody>\n",
              "</table>\n",
              "</div>"
            ],
            "text/plain": [
              "   customer_id  vintage  ...  previous_month_balance churn\n",
              "0            1     3135  ...                 1458.71     0\n",
              "1            2      310  ...                 8787.61     0\n",
              "2            4     2356  ...                 5070.14     0\n",
              "3            5      478  ...                 1669.79     1\n",
              "4            6     2531  ...                 1677.16     1\n",
              "\n",
              "[5 rows x 21 columns]"
            ]
          },
          "metadata": {
            "tags": []
          },
          "execution_count": 55
        }
      ]
    },
    {
      "cell_type": "code",
      "metadata": {
        "id": "roYEIXWAXWWn",
        "colab_type": "code",
        "colab": {
          "base_uri": "https://localhost:8080/",
          "height": 320
        },
        "outputId": "b9d0fa75-2922-417e-9a7f-3633c4c16ffc"
      },
      "source": [
        "data.describe()"
      ],
      "execution_count": null,
      "outputs": [
        {
          "output_type": "execute_result",
          "data": {
            "text/html": [
              "<div>\n",
              "<style scoped>\n",
              "    .dataframe tbody tr th:only-of-type {\n",
              "        vertical-align: middle;\n",
              "    }\n",
              "\n",
              "    .dataframe tbody tr th {\n",
              "        vertical-align: top;\n",
              "    }\n",
              "\n",
              "    .dataframe thead th {\n",
              "        text-align: right;\n",
              "    }\n",
              "</style>\n",
              "<table border=\"1\" class=\"dataframe\">\n",
              "  <thead>\n",
              "    <tr style=\"text-align: right;\">\n",
              "      <th></th>\n",
              "      <th>customer_id</th>\n",
              "      <th>vintage</th>\n",
              "      <th>age</th>\n",
              "      <th>dependents</th>\n",
              "      <th>city</th>\n",
              "      <th>customer_nw_category</th>\n",
              "      <th>branch_code</th>\n",
              "      <th>days_since_last_transaction</th>\n",
              "      <th>current_balance</th>\n",
              "      <th>previous_month_end_balance</th>\n",
              "      <th>average_monthly_balance_prevQ</th>\n",
              "      <th>average_monthly_balance_prevQ2</th>\n",
              "      <th>current_month_credit</th>\n",
              "      <th>previous_month_credit</th>\n",
              "      <th>current_month_debit</th>\n",
              "      <th>previous_month_debit</th>\n",
              "      <th>current_month_balance</th>\n",
              "      <th>previous_month_balance</th>\n",
              "      <th>churn</th>\n",
              "    </tr>\n",
              "  </thead>\n",
              "  <tbody>\n",
              "    <tr>\n",
              "      <th>count</th>\n",
              "      <td>28382.000000</td>\n",
              "      <td>28382.000000</td>\n",
              "      <td>28382.000000</td>\n",
              "      <td>25919.000000</td>\n",
              "      <td>27579.000000</td>\n",
              "      <td>28382.000000</td>\n",
              "      <td>28382.000000</td>\n",
              "      <td>25159.000000</td>\n",
              "      <td>2.838200e+04</td>\n",
              "      <td>2.838200e+04</td>\n",
              "      <td>2.838200e+04</td>\n",
              "      <td>2.838200e+04</td>\n",
              "      <td>2.838200e+04</td>\n",
              "      <td>2.838200e+04</td>\n",
              "      <td>2.838200e+04</td>\n",
              "      <td>2.838200e+04</td>\n",
              "      <td>2.838200e+04</td>\n",
              "      <td>2.838200e+04</td>\n",
              "      <td>28382.000000</td>\n",
              "    </tr>\n",
              "    <tr>\n",
              "      <th>mean</th>\n",
              "      <td>15143.508667</td>\n",
              "      <td>2364.336446</td>\n",
              "      <td>48.208336</td>\n",
              "      <td>0.347236</td>\n",
              "      <td>796.109576</td>\n",
              "      <td>2.225530</td>\n",
              "      <td>925.975019</td>\n",
              "      <td>69.997814</td>\n",
              "      <td>7.380552e+03</td>\n",
              "      <td>7.495771e+03</td>\n",
              "      <td>7.496780e+03</td>\n",
              "      <td>7.124209e+03</td>\n",
              "      <td>3.433252e+03</td>\n",
              "      <td>3.261694e+03</td>\n",
              "      <td>3.658745e+03</td>\n",
              "      <td>3.339761e+03</td>\n",
              "      <td>7.451133e+03</td>\n",
              "      <td>7.495177e+03</td>\n",
              "      <td>0.185329</td>\n",
              "    </tr>\n",
              "    <tr>\n",
              "      <th>std</th>\n",
              "      <td>8746.454456</td>\n",
              "      <td>1610.124506</td>\n",
              "      <td>17.807163</td>\n",
              "      <td>0.997661</td>\n",
              "      <td>432.872102</td>\n",
              "      <td>0.660443</td>\n",
              "      <td>937.799129</td>\n",
              "      <td>86.341098</td>\n",
              "      <td>4.259871e+04</td>\n",
              "      <td>4.252935e+04</td>\n",
              "      <td>4.172622e+04</td>\n",
              "      <td>4.457581e+04</td>\n",
              "      <td>7.707145e+04</td>\n",
              "      <td>2.968889e+04</td>\n",
              "      <td>5.198542e+04</td>\n",
              "      <td>2.430111e+04</td>\n",
              "      <td>4.203394e+04</td>\n",
              "      <td>4.243198e+04</td>\n",
              "      <td>0.388571</td>\n",
              "    </tr>\n",
              "    <tr>\n",
              "      <th>min</th>\n",
              "      <td>1.000000</td>\n",
              "      <td>180.000000</td>\n",
              "      <td>1.000000</td>\n",
              "      <td>0.000000</td>\n",
              "      <td>0.000000</td>\n",
              "      <td>1.000000</td>\n",
              "      <td>1.000000</td>\n",
              "      <td>0.000000</td>\n",
              "      <td>-5.503960e+03</td>\n",
              "      <td>-3.149570e+03</td>\n",
              "      <td>1.428690e+03</td>\n",
              "      <td>-1.650610e+04</td>\n",
              "      <td>1.000000e-02</td>\n",
              "      <td>1.000000e-02</td>\n",
              "      <td>1.000000e-02</td>\n",
              "      <td>1.000000e-02</td>\n",
              "      <td>-3.374180e+03</td>\n",
              "      <td>-5.171920e+03</td>\n",
              "      <td>0.000000</td>\n",
              "    </tr>\n",
              "    <tr>\n",
              "      <th>25%</th>\n",
              "      <td>7557.250000</td>\n",
              "      <td>1121.000000</td>\n",
              "      <td>36.000000</td>\n",
              "      <td>0.000000</td>\n",
              "      <td>409.000000</td>\n",
              "      <td>2.000000</td>\n",
              "      <td>176.000000</td>\n",
              "      <td>11.000000</td>\n",
              "      <td>1.784470e+03</td>\n",
              "      <td>1.906000e+03</td>\n",
              "      <td>2.180945e+03</td>\n",
              "      <td>1.832507e+03</td>\n",
              "      <td>3.100000e-01</td>\n",
              "      <td>3.300000e-01</td>\n",
              "      <td>4.100000e-01</td>\n",
              "      <td>4.100000e-01</td>\n",
              "      <td>1.996765e+03</td>\n",
              "      <td>2.074408e+03</td>\n",
              "      <td>0.000000</td>\n",
              "    </tr>\n",
              "    <tr>\n",
              "      <th>50%</th>\n",
              "      <td>15150.500000</td>\n",
              "      <td>2018.000000</td>\n",
              "      <td>46.000000</td>\n",
              "      <td>0.000000</td>\n",
              "      <td>834.000000</td>\n",
              "      <td>2.000000</td>\n",
              "      <td>572.000000</td>\n",
              "      <td>30.000000</td>\n",
              "      <td>3.281255e+03</td>\n",
              "      <td>3.379915e+03</td>\n",
              "      <td>3.542865e+03</td>\n",
              "      <td>3.359600e+03</td>\n",
              "      <td>6.100000e-01</td>\n",
              "      <td>6.300000e-01</td>\n",
              "      <td>9.193000e+01</td>\n",
              "      <td>1.099600e+02</td>\n",
              "      <td>3.447995e+03</td>\n",
              "      <td>3.465235e+03</td>\n",
              "      <td>0.000000</td>\n",
              "    </tr>\n",
              "    <tr>\n",
              "      <th>75%</th>\n",
              "      <td>22706.750000</td>\n",
              "      <td>3176.000000</td>\n",
              "      <td>60.000000</td>\n",
              "      <td>0.000000</td>\n",
              "      <td>1096.000000</td>\n",
              "      <td>3.000000</td>\n",
              "      <td>1440.000000</td>\n",
              "      <td>95.000000</td>\n",
              "      <td>6.635820e+03</td>\n",
              "      <td>6.656535e+03</td>\n",
              "      <td>6.666887e+03</td>\n",
              "      <td>6.517960e+03</td>\n",
              "      <td>7.072725e+02</td>\n",
              "      <td>7.492350e+02</td>\n",
              "      <td>1.360435e+03</td>\n",
              "      <td>1.357553e+03</td>\n",
              "      <td>6.667958e+03</td>\n",
              "      <td>6.654693e+03</td>\n",
              "      <td>0.000000</td>\n",
              "    </tr>\n",
              "    <tr>\n",
              "      <th>max</th>\n",
              "      <td>30301.000000</td>\n",
              "      <td>12899.000000</td>\n",
              "      <td>90.000000</td>\n",
              "      <td>52.000000</td>\n",
              "      <td>1649.000000</td>\n",
              "      <td>3.000000</td>\n",
              "      <td>4782.000000</td>\n",
              "      <td>365.000000</td>\n",
              "      <td>5.905904e+06</td>\n",
              "      <td>5.740439e+06</td>\n",
              "      <td>5.700290e+06</td>\n",
              "      <td>5.010170e+06</td>\n",
              "      <td>1.226985e+07</td>\n",
              "      <td>2.361808e+06</td>\n",
              "      <td>7.637857e+06</td>\n",
              "      <td>1.414168e+06</td>\n",
              "      <td>5.778185e+06</td>\n",
              "      <td>5.720144e+06</td>\n",
              "      <td>1.000000</td>\n",
              "    </tr>\n",
              "  </tbody>\n",
              "</table>\n",
              "</div>"
            ],
            "text/plain": [
              "        customer_id       vintage  ...  previous_month_balance         churn\n",
              "count  28382.000000  28382.000000  ...            2.838200e+04  28382.000000\n",
              "mean   15143.508667   2364.336446  ...            7.495177e+03      0.185329\n",
              "std     8746.454456   1610.124506  ...            4.243198e+04      0.388571\n",
              "min        1.000000    180.000000  ...           -5.171920e+03      0.000000\n",
              "25%     7557.250000   1121.000000  ...            2.074408e+03      0.000000\n",
              "50%    15150.500000   2018.000000  ...            3.465235e+03      0.000000\n",
              "75%    22706.750000   3176.000000  ...            6.654693e+03      0.000000\n",
              "max    30301.000000  12899.000000  ...            5.720144e+06      1.000000\n",
              "\n",
              "[8 rows x 19 columns]"
            ]
          },
          "metadata": {
            "tags": []
          },
          "execution_count": 28
        }
      ]
    },
    {
      "cell_type": "markdown",
      "metadata": {
        "id": "7b1WzrkEF5fD",
        "colab_type": "text"
      },
      "source": [
        "# **Data Exploration**"
      ]
    },
    {
      "cell_type": "code",
      "metadata": {
        "id": "dhlT_TWdHDJ0",
        "colab_type": "code",
        "colab": {
          "base_uri": "https://localhost:8080/",
          "height": 941
        },
        "outputId": "8f945c3b-4a5b-4b1c-e599-31bca06c1c74"
      },
      "source": [
        "fig , ax = plt.subplots(2,2, figsize = (20,15))\n",
        "\n",
        "ax[0,0].set_title('Balance of the Data', color='red', fontsize=15)\n",
        "sns.countplot('churn', data=data,  palette='rocket', ax=ax[0,0])\n",
        "\n",
        "ax[0,1].set_title('Churn by occupation', color='red', fontsize=15)\n",
        "sns.countplot('occupation', data=data, hue='churn', palette='rocket', ax=ax[0,1])\n",
        "\n",
        "ax[1,0].set_title('Churn by net worth(1:High, 2:Medium, 3:Low)', color='red', fontsize=15)\n",
        "sns.countplot('customer_nw_category', data=data, hue='churn', palette='rocket', ax=ax[1,0])\n",
        "\n",
        "ax[1,1].set_title('Churn by gender', color='red', fontsize=15)\n",
        "sns.countplot('gender', data=data, hue='churn', palette='rocket', ax=ax[1,1])"
      ],
      "execution_count": null,
      "outputs": [
        {
          "output_type": "execute_result",
          "data": {
            "text/plain": [
              "<matplotlib.axes._subplots.AxesSubplot at 0x7fc463f3a898>"
            ]
          },
          "metadata": {
            "tags": []
          },
          "execution_count": 59
        },
        {
          "output_type": "display_data",
          "data": {
            "image/png": "[encoded data removed]",
            "text/plain": [
              "<Figure size 1440x1080 with 4 Axes>"
            ]
          },
          "metadata": {
            "tags": []
          }
        }
      ]
    },
    {
      "cell_type": "code",
      "metadata": {
        "id": "OeoqKs3DbX3h",
        "colab_type": "code",
        "colab": {
          "base_uri": "https://localhost:8080/",
          "height": 36
        },
        "outputId": "8814c8a3-2142-4272-949c-136c05ac9c3f"
      },
      "source": [
        "print(data.shape)\n",
        "# we can see that data is inbalanced  from  1st subplot int the above graph\n",
        "#(resampling  the data can be done & choosing various evalution matrix as Accuracy is not right in this case)\n"
      ],
      "execution_count": null,
      "outputs": [
        {
          "output_type": "stream",
          "text": [
            "(28382, 21)\n"
          ],
          "name": "stdout"
        }
      ]
    },
    {
      "cell_type": "code",
      "metadata": {
        "id": "Jjdezx_q-1YU",
        "colab_type": "code",
        "colab": {
          "base_uri": "https://localhost:8080/",
          "height": 443
        },
        "outputId": "b0f28baa-23ba-4454-d7b8-8140a1235238"
      },
      "source": [
        "data.dtypes\n"
      ],
      "execution_count": null,
      "outputs": [
        {
          "output_type": "execute_result",
          "data": {
            "text/plain": [
              "customer_id                         int64\n",
              "vintage                             int64\n",
              "age                                 int64\n",
              "gender                             object\n",
              "dependents                        float64\n",
              "occupation                         object\n",
              "city                              float64\n",
              "customer_nw_category                int64\n",
              "branch_code                         int64\n",
              "days_since_last_transaction       float64\n",
              "current_balance                   float64\n",
              "previous_month_end_balance        float64\n",
              "average_monthly_balance_prevQ     float64\n",
              "average_monthly_balance_prevQ2    float64\n",
              "current_month_credit              float64\n",
              "previous_month_credit             float64\n",
              "current_month_debit               float64\n",
              "previous_month_debit              float64\n",
              "current_month_balance             float64\n",
              "previous_month_balance            float64\n",
              "churn                               int64\n",
              "dtype: object"
            ]
          },
          "metadata": {
            "tags": []
          },
          "execution_count": 87
        }
      ]
    },
    {
      "cell_type": "code",
      "metadata": {
        "id": "g1Fmwf-mbi56",
        "colab_type": "code",
        "colab": {
          "base_uri": "https://localhost:8080/",
          "height": 443
        },
        "outputId": "e2fb60cc-31fa-4cb4-e84f-7085e1672b6d"
      },
      "source": [
        "#null values in the dataset\n",
        "data.isnull().sum()\n"
      ],
      "execution_count": null,
      "outputs": [
        {
          "output_type": "execute_result",
          "data": {
            "text/plain": [
              "customer_id                          0\n",
              "vintage                              0\n",
              "age                                  0\n",
              "gender                             525\n",
              "dependents                        2463\n",
              "occupation                          80\n",
              "city                               803\n",
              "customer_nw_category                 0\n",
              "branch_code                          0\n",
              "days_since_last_transaction       3223\n",
              "current_balance                      0\n",
              "previous_month_end_balance           0\n",
              "average_monthly_balance_prevQ        0\n",
              "average_monthly_balance_prevQ2       0\n",
              "current_month_credit                 0\n",
              "previous_month_credit                0\n",
              "current_month_debit                  0\n",
              "previous_month_debit                 0\n",
              "current_month_balance                0\n",
              "previous_month_balance               0\n",
              "churn                                0\n",
              "dtype: int64"
            ]
          },
          "metadata": {
            "tags": []
          },
          "execution_count": 88
        }
      ]
    },
    {
      "cell_type": "markdown",
      "metadata": {
        "id": "oaF4C-xmVax4",
        "colab_type": "text"
      },
      "source": [
        "# **Imputing missing values**"
      ]
    },
    {
      "cell_type": "code",
      "metadata": {
        "id": "R37pRhk2VVdt",
        "colab_type": "code",
        "colab": {}
      },
      "source": [
        "#filling gender, occupation, days_since_last_transaction, city with mode & dependents with mean\n",
        "data['gender'].fillna(data['gender'].mode()[0], inplace= True)\n",
        "data['city'].fillna(data['city'].mode()[0], inplace= True)\n",
        "data['occupation'].fillna(data['occupation'].mode()[0], inplace= True)\n",
        "data['dependents'].fillna(data['dependents'].mean(), inplace= True)\n",
        "data['days_since_last_transaction'].fillna(data['days_since_last_transaction'].mode()[0], inplace= True)\n"
      ],
      "execution_count": null,
      "outputs": []
    },
    {
      "cell_type": "markdown",
      "metadata": {
        "id": "lPkE8Krvd1Dg",
        "colab_type": "text"
      },
      "source": [
        "# **Split the Data**"
      ]
    },
    {
      "cell_type": "code",
      "metadata": {
        "id": "O5jKYoq-TcTn",
        "colab_type": "code",
        "colab": {
          "base_uri": "https://localhost:8080/",
          "height": 75
        },
        "outputId": "fae0cc7e-8d32-48bc-93dd-10f23f6c263f"
      },
      "source": [
        "#split data to tarin and test tests\n",
        "from sklearn.model_selection import train_test_split\n",
        "\n",
        "\n",
        "x =data.drop('churn', axis = 1)\n",
        "y =data['churn']\n",
        "x_train, x_test, y_train, y_test =  train_test_split(x, y, test_size = 0.2)\n",
        "\n",
        "y_test.value_counts()\n"
      ],
      "execution_count": null,
      "outputs": [
        {
          "output_type": "execute_result",
          "data": {
            "text/plain": [
              "0    4639\n",
              "1    1038\n",
              "Name: churn, dtype: int64"
            ]
          },
          "metadata": {
            "tags": []
          },
          "execution_count": 50
        }
      ]
    },
    {
      "cell_type": "markdown",
      "metadata": {
        "id": "rGccJ2vVd_Bl",
        "colab_type": "text"
      },
      "source": [
        "# **Encoding**"
      ]
    },
    {
      "cell_type": "code",
      "metadata": {
        "id": "Po9WmUjYBN2c",
        "colab_type": "code",
        "colab": {
          "base_uri": "https://localhost:8080/",
          "height": 206
        },
        "outputId": "2a0d9b3a-5297-4688-b017-d110a80daed6"
      },
      "source": [
        "from sklearn.preprocessing import OneHotEncoder\n",
        "from sklearn.compose import ColumnTransformer\n",
        "\n",
        "enc = OneHotEncoder()\n",
        "cat_features = ['gender', 'occupation']\n",
        "transform = ColumnTransformer([('1hot',\n",
        "                                enc,\n",
        "                                cat_features)],\n",
        "                              remainder = 'passthrough')\n",
        "x_train_transformed_data = transform.fit_transform(x_train)\n",
        "x_test_transformed_data = transform.fit_transform(x_test)\n",
        "\n",
        "\n",
        "#it is converted to numpy array so convert it to pandas dataframe \n",
        "train_data = pd.DataFrame(x_train_transformed_data)\n",
        "test_data = pd.DataFrame(x_test_transformed_data)\n",
        "\n",
        "train_data.head()\n"
      ],
      "execution_count": null,
      "outputs": [
        {
          "output_type": "execute_result",
          "data": {
            "text/html": [
              "<div>\n",
              "<style scoped>\n",
              "    .dataframe tbody tr th:only-of-type {\n",
              "        vertical-align: middle;\n",
              "    }\n",
              "\n",
              "    .dataframe tbody tr th {\n",
              "        vertical-align: top;\n",
              "    }\n",
              "\n",
              "    .dataframe thead th {\n",
              "        text-align: right;\n",
              "    }\n",
              "</style>\n",
              "<table border=\"1\" class=\"dataframe\">\n",
              "  <thead>\n",
              "    <tr style=\"text-align: right;\">\n",
              "      <th></th>\n",
              "      <th>0</th>\n",
              "      <th>1</th>\n",
              "      <th>2</th>\n",
              "      <th>3</th>\n",
              "      <th>4</th>\n",
              "      <th>5</th>\n",
              "      <th>6</th>\n",
              "      <th>7</th>\n",
              "      <th>8</th>\n",
              "      <th>9</th>\n",
              "      <th>10</th>\n",
              "      <th>11</th>\n",
              "      <th>12</th>\n",
              "      <th>13</th>\n",
              "      <th>14</th>\n",
              "      <th>15</th>\n",
              "      <th>16</th>\n",
              "      <th>17</th>\n",
              "      <th>18</th>\n",
              "      <th>19</th>\n",
              "      <th>20</th>\n",
              "      <th>21</th>\n",
              "      <th>22</th>\n",
              "      <th>23</th>\n",
              "      <th>24</th>\n",
              "    </tr>\n",
              "  </thead>\n",
              "  <tbody>\n",
              "    <tr>\n",
              "      <th>0</th>\n",
              "      <td>0.0</td>\n",
              "      <td>1.0</td>\n",
              "      <td>0.0</td>\n",
              "      <td>0.0</td>\n",
              "      <td>0.0</td>\n",
              "      <td>1.0</td>\n",
              "      <td>0.0</td>\n",
              "      <td>18410.0</td>\n",
              "      <td>4136.0</td>\n",
              "      <td>27.0</td>\n",
              "      <td>0.000000</td>\n",
              "      <td>656.0</td>\n",
              "      <td>2.0</td>\n",
              "      <td>1383.0</td>\n",
              "      <td>0.0</td>\n",
              "      <td>18090.02</td>\n",
              "      <td>18090.02</td>\n",
              "      <td>18090.02</td>\n",
              "      <td>17975.41</td>\n",
              "      <td>0.40</td>\n",
              "      <td>0.40</td>\n",
              "      <td>0.40</td>\n",
              "      <td>0.40</td>\n",
              "      <td>18090.02</td>\n",
              "      <td>18090.02</td>\n",
              "    </tr>\n",
              "    <tr>\n",
              "      <th>1</th>\n",
              "      <td>0.0</td>\n",
              "      <td>1.0</td>\n",
              "      <td>0.0</td>\n",
              "      <td>0.0</td>\n",
              "      <td>0.0</td>\n",
              "      <td>1.0</td>\n",
              "      <td>0.0</td>\n",
              "      <td>343.0</td>\n",
              "      <td>475.0</td>\n",
              "      <td>29.0</td>\n",
              "      <td>0.347236</td>\n",
              "      <td>334.0</td>\n",
              "      <td>2.0</td>\n",
              "      <td>675.0</td>\n",
              "      <td>54.0</td>\n",
              "      <td>411.42</td>\n",
              "      <td>5431.33</td>\n",
              "      <td>4133.69</td>\n",
              "      <td>5558.93</td>\n",
              "      <td>0.14</td>\n",
              "      <td>2742.15</td>\n",
              "      <td>4907.29</td>\n",
              "      <td>5122.71</td>\n",
              "      <td>2606.04</td>\n",
              "      <td>5904.87</td>\n",
              "    </tr>\n",
              "    <tr>\n",
              "      <th>2</th>\n",
              "      <td>0.0</td>\n",
              "      <td>1.0</td>\n",
              "      <td>0.0</td>\n",
              "      <td>0.0</td>\n",
              "      <td>1.0</td>\n",
              "      <td>0.0</td>\n",
              "      <td>0.0</td>\n",
              "      <td>28162.0</td>\n",
              "      <td>5707.0</td>\n",
              "      <td>47.0</td>\n",
              "      <td>0.000000</td>\n",
              "      <td>318.0</td>\n",
              "      <td>3.0</td>\n",
              "      <td>1306.0</td>\n",
              "      <td>0.0</td>\n",
              "      <td>1784.17</td>\n",
              "      <td>1784.17</td>\n",
              "      <td>1784.17</td>\n",
              "      <td>1772.85</td>\n",
              "      <td>0.26</td>\n",
              "      <td>0.26</td>\n",
              "      <td>0.26</td>\n",
              "      <td>0.26</td>\n",
              "      <td>1784.17</td>\n",
              "      <td>1784.17</td>\n",
              "    </tr>\n",
              "    <tr>\n",
              "      <th>3</th>\n",
              "      <td>0.0</td>\n",
              "      <td>1.0</td>\n",
              "      <td>0.0</td>\n",
              "      <td>0.0</td>\n",
              "      <td>1.0</td>\n",
              "      <td>0.0</td>\n",
              "      <td>0.0</td>\n",
              "      <td>29146.0</td>\n",
              "      <td>2370.0</td>\n",
              "      <td>58.0</td>\n",
              "      <td>3.000000</td>\n",
              "      <td>146.0</td>\n",
              "      <td>3.0</td>\n",
              "      <td>1604.0</td>\n",
              "      <td>3.0</td>\n",
              "      <td>1587.10</td>\n",
              "      <td>1573.63</td>\n",
              "      <td>1574.25</td>\n",
              "      <td>1496.52</td>\n",
              "      <td>13.90</td>\n",
              "      <td>0.43</td>\n",
              "      <td>0.43</td>\n",
              "      <td>0.43</td>\n",
              "      <td>1575.49</td>\n",
              "      <td>1573.63</td>\n",
              "    </tr>\n",
              "    <tr>\n",
              "      <th>4</th>\n",
              "      <td>1.0</td>\n",
              "      <td>0.0</td>\n",
              "      <td>0.0</td>\n",
              "      <td>0.0</td>\n",
              "      <td>0.0</td>\n",
              "      <td>0.0</td>\n",
              "      <td>1.0</td>\n",
              "      <td>6494.0</td>\n",
              "      <td>874.0</td>\n",
              "      <td>23.0</td>\n",
              "      <td>0.000000</td>\n",
              "      <td>1096.0</td>\n",
              "      <td>3.0</td>\n",
              "      <td>1375.0</td>\n",
              "      <td>42.0</td>\n",
              "      <td>8101.96</td>\n",
              "      <td>8116.41</td>\n",
              "      <td>7376.59</td>\n",
              "      <td>6680.06</td>\n",
              "      <td>0.06</td>\n",
              "      <td>1428.63</td>\n",
              "      <td>14.51</td>\n",
              "      <td>0.06</td>\n",
              "      <td>8108.94</td>\n",
              "      <td>7333.00</td>\n",
              "    </tr>\n",
              "  </tbody>\n",
              "</table>\n",
              "</div>"
            ],
            "text/plain": [
              "    0    1    2    3    4   ...       20       21       22        23        24\n",
              "0  0.0  1.0  0.0  0.0  0.0  ...     0.40     0.40     0.40  18090.02  18090.02\n",
              "1  0.0  1.0  0.0  0.0  0.0  ...  2742.15  4907.29  5122.71   2606.04   5904.87\n",
              "2  0.0  1.0  0.0  0.0  1.0  ...     0.26     0.26     0.26   1784.17   1784.17\n",
              "3  0.0  1.0  0.0  0.0  1.0  ...     0.43     0.43     0.43   1575.49   1573.63\n",
              "4  1.0  0.0  0.0  0.0  0.0  ...  1428.63    14.51     0.06   8108.94   7333.00\n",
              "\n",
              "[5 rows x 25 columns]"
            ]
          },
          "metadata": {
            "tags": []
          },
          "execution_count": 51
        }
      ]
    },
    {
      "cell_type": "markdown",
      "metadata": {
        "id": "sGJ2cd0u0gz8",
        "colab_type": "text"
      },
      "source": [
        "# **Evaluating**"
      ]
    },
    {
      "cell_type": "code",
      "metadata": {
        "id": "spXn4z6XWn4X",
        "colab_type": "code",
        "colab": {
          "base_uri": "https://localhost:8080/",
          "height": 36
        },
        "outputId": "b3114ea4-61fe-47e1-e255-0b73bbd0ca6d"
      },
      "source": [
        "from sklearn.linear_model import LogisticRegression\n",
        "model = LogisticRegression()\n",
        "model.fit(train_data, y_train)\n",
        "model.score(test_data, y_test)"
      ],
      "execution_count": null,
      "outputs": [
        {
          "output_type": "execute_result",
          "data": {
            "text/plain": [
              "0.8222652809582526"
            ]
          },
          "metadata": {
            "tags": []
          },
          "execution_count": 52
        }
      ]
    },
    {
      "cell_type": "code",
      "metadata": {
        "id": "1lqfOFQKeOIk",
        "colab_type": "code",
        "colab": {
          "base_uri": "https://localhost:8080/",
          "height": 668
        },
        "outputId": "e96e1d73-bfbe-4253-e547-32ef786efe56"
      },
      "source": [
        "from sklearn.metrics import confusion_matrix, roc_curve\n",
        "\n",
        "pred = model.predict_proba(test_data)\n",
        "posetive = pred[:,1]\n",
        "fpr, tpr, thresholds = roc_curve(y_test, posetive)\n",
        "\n",
        "\n",
        "pred = model.predict(test_data)\n",
        "conf_mat = confusion_matrix(y_test, pred)\n",
        "conf_mat\n",
        "\n",
        "\n",
        "#create a function to plot a curve\n",
        "def plot_roc(fpr, tpr):\n",
        "\n",
        "  plt.figure(figsize=(9,5) )\n",
        "  plt.plot(fpr, tpr, color= 'red', label='ROC')\n",
        "  plt.plot([0,1], [0,1], color = 'cyan', linestyle = '--', label= 'guess')\n",
        "  \n",
        "  plt.xlabel('True posetive rate' )\n",
        "  plt.ylabel('Flase posetive rate')\n",
        "\n",
        "\n",
        "  plt.legend()\n",
        "  plt.show()\n",
        "\n",
        "plot_roc(fpr, tpr)\n",
        "\n",
        "\n",
        "\n",
        "#visualise confusion matrix with seaborn heat map\n",
        "import seaborn as sns\n",
        "sns.set(font_scale = 2)\n",
        "sns.heatmap(conf_mat, annot = True, cbar= False)\n",
        "plt.xlabel('True')\n",
        "plt.ylabel('Predicted')\n",
        "\n"
      ],
      "execution_count": null,
      "outputs": [
        {
          "output_type": "display_data",
          "data": {
            "image/png": "[encoded data removed]",
            "text/plain": [
              "<Figure size 648x360 with 1 Axes>"
            ]
          },
          "metadata": {
            "tags": []
          }
        },
        {
          "output_type": "execute_result",
          "data": {
            "text/plain": [
              "Text(20.5, 0.5, 'Predicted')"
            ]
          },
          "metadata": {
            "tags": []
          },
          "execution_count": 54
        },
        {
          "output_type": "display_data",
          "data": {
            "image/png": "[encoded data removed]",
            "text/plain": [
              "<Figure size 432x288 with 1 Axes>"
            ]
          },
          "metadata": {
            "tags": []
          }
        }
      ]
    }
  ]
}